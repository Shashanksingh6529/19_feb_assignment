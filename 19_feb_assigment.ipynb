{
 "cells": [
  {
   "cell_type": "markdown",
   "id": "7bd90cfe-6e41-4d79-a396-c45de23b188d",
   "metadata": {},
   "source": [
    "Q1. What is Flask Framework? What are the advantages of Flask Framework?"
   ]
  },
  {
   "cell_type": "code",
   "execution_count": 1,
   "id": "edd3aa9d-1b35-48a6-a384-3acad752bc08",
   "metadata": {},
   "outputs": [
    {
     "data": {
      "text/plain": [
       "'Flask is a micro web framework written in Python. It is classified as a microframework because it does not require particular tools or libraries. It has no database abstraction layer, form validation, or any other components where pre-existing third-party libraries provide common functions. However, Flask supports extensions that can add application features as if they were implemented in Flask itself. Flask is simple to use and easy to understand, making it a great choice for small to medium-sized web applications and APIs.'"
      ]
     },
     "execution_count": 1,
     "metadata": {},
     "output_type": "execute_result"
    }
   ],
   "source": [
    "\"Flask is a micro web framework written in Python. It is classified as a microframework because it does not require particular tools or libraries. It has no database abstraction layer, form validation, or any other components where pre-existing third-party libraries provide common functions. However, Flask supports extensions that can add application features as if they were implemented in Flask itself. Flask is simple to use and easy to understand, making it a great choice for small to medium-sized web applications and APIs.\""
   ]
  },
  {
   "cell_type": "markdown",
   "id": "0a8e71a7-9815-45cf-8ff5-4efca5a2f679",
   "metadata": {},
   "source": [
    "Q2. Create a simple Flask application to display ‘Hello World!!’. Attach the screenshot of the output in Jupyter Notebook."
   ]
  },
  {
   "cell_type": "code",
   "execution_count": null,
   "id": "c652a244-f0cd-4833-9594-f45f707bc8c6",
   "metadata": {},
   "outputs": [],
   "source": [
    "from flask import Flask\n",
    "\n",
    "app = Flask(__name__)\n",
    "\n",
    "@app.route('/')\n",
    "def hello_world():\n",
    "    return 'Hello World!!'\n",
    "\n",
    "if __name__ == '__main__':\n",
    "    app.run()"
   ]
  },
  {
   "cell_type": "markdown",
   "id": "8f71193f-e2cc-4800-94b4-c6ca9b5baf70",
   "metadata": {},
   "source": [
    "Q3. What is App routing in Flask? Why do we use app routes?"
   ]
  },
  {
   "cell_type": "code",
   "execution_count": 5,
   "id": "104cebca-4c7a-4c38-a32e-4387e6843b26",
   "metadata": {},
   "outputs": [
    {
     "data": {
      "text/plain": [
       "\"We use app routes in Flask to define the behavior of our web application. Each route specifies a URL and the function that should be called when that URL is requested by a client (usually a web browser). This allows us to create dynamic web pages and APIs by executing Python code based on the user's request.\""
      ]
     },
     "execution_count": 5,
     "metadata": {},
     "output_type": "execute_result"
    }
   ],
   "source": [
    "\"App routing in Flask refers to mapping URLs to functions in your Python code. This is done using the @app.route() decorator. When a user visits a specific URL in the Flask application, the corresponding Python function is executed.\"\n",
    "\n",
    "\"We use app routes in Flask to define the behavior of our web application. Each route specifies a URL and the function that should be called when that URL is requested by a client (usually a web browser). This allows us to create dynamic web pages and APIs by executing Python code based on the user's request.\""
   ]
  },
  {
   "cell_type": "markdown",
   "id": "94143786-60da-4a90-963c-8f7f4aff5b8d",
   "metadata": {},
   "source": [
    "Q4. Create a “/welcome” route to display the welcome message “Welcome to ABC Corporation” and a “/” route to show the following details: Company Name: ABC Corporation Location: India Contact Detail: 999-999-9999 Attach the screenshot of the output in Jupyter Notebook."
   ]
  },
  {
   "cell_type": "code",
   "execution_count": null,
   "id": "609d641c-0f79-4ab5-8707-0aeb6295c4e1",
   "metadata": {},
   "outputs": [],
   "source": [
    "from flask import Flask\n",
    "\n",
    "app = Flask(__name__)\n",
    "\n",
    "@app.route('/welcome')\n",
    "def welcome():\n",
    "    return 'Welcome to ABC Corporation'\n",
    "\n",
    "@app.route('/')\n",
    "def company_info():\n",
    "    return '''\n",
    "    Company Name: ABC Corporation\n",
    "    Location: India\n",
    "    Contact Detail: 999-999-9999\n",
    "    '''\n",
    "\n",
    "if __name__ == '__main__':\n",
    "    app.run()"
   ]
  },
  {
   "cell_type": "markdown",
   "id": "3d44ed3f-265a-467e-b927-d881da04093e",
   "metadata": {},
   "source": [
    "Q5. What function is used in Flask for URL Building? Write a Python code to demonstrate the working of the url_for() function."
   ]
  },
  {
   "cell_type": "code",
   "execution_count": null,
   "id": "1225da17-6c44-45f6-a133-05ee62f8abf7",
   "metadata": {},
   "outputs": [],
   "source": [
    "from flask import Flask, url_for\n",
    "\n",
    "app = Flask(__name__)\n",
    "\n",
    "@app.route('/')\n",
    "def index():\n",
    "    return 'Index Page'\n",
    "\n",
    "@app.route('/hello')\n",
    "def hello():\n",
    "    return 'Hello, World!'\n",
    "\n",
    "@app.route('/user/<username>')\n",
    "def profile(username):\n",
    "    return f'{username}\\'s profile'\n",
    "\n",
    "@app.route('/post/<int:post_id>')\n",
    "def show_post(post_id):\n",
    "    return f'Post {post_id}'\n",
    "\n",
    "@app.route('/login')\n",
    "def login():\n",
    "    return 'login'\n",
    "\n",
    "with app.test_request_context():\n",
    "    print(url_for('index'))   # Output: /\n",
    "    print(url_for('hello'))   # Output: /hello\n",
    "    print(url_for('hello', next='/'))  # Output: /hello?next=/\n",
    "    print(url_for('profile', username='John Doe'))  # Output: /user/John%20Doe\n",
    "    print(url_for('login'))   # Output: /login"
   ]
  }
 ],
 "metadata": {
  "kernelspec": {
   "display_name": "Python 3 (ipykernel)",
   "language": "python",
   "name": "python3"
  },
  "language_info": {
   "codemirror_mode": {
    "name": "ipython",
    "version": 3
   },
   "file_extension": ".py",
   "mimetype": "text/x-python",
   "name": "python",
   "nbconvert_exporter": "python",
   "pygments_lexer": "ipython3",
   "version": "3.10.8"
  }
 },
 "nbformat": 4,
 "nbformat_minor": 5
}
